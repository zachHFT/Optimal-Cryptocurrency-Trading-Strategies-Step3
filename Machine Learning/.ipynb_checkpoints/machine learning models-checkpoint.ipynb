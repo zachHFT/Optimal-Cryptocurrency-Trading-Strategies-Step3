{
 "cells": [
  {
   "cell_type": "code",
   "execution_count": 1,
   "id": "6891d783",
   "metadata": {},
   "outputs": [],
   "source": [
    "#import packages\n",
    "import pandas as pd\n",
    "import numpy as np\n",
    "\n",
    "#to plot within notebook\n",
    "import matplotlib.pyplot as plt\n",
    "%matplotlib inline\n",
    "\n",
    "#setting figure size\n",
    "from matplotlib.pylab import rcParams\n",
    "rcParams['figure.figsize'] = 20,10\n",
    "\n",
    "#for normalizing data\n",
    "from sklearn.preprocessing import MinMaxScaler\n",
    "scaler = MinMaxScaler(feature_range=(0, 1))\n",
    "\n"
   ]
  },
  {
   "cell_type": "code",
   "execution_count": 2,
   "id": "be254e0b",
   "metadata": {},
   "outputs": [
    {
     "data": {
      "text/html": [
       "<div>\n",
       "<style scoped>\n",
       "    .dataframe tbody tr th:only-of-type {\n",
       "        vertical-align: middle;\n",
       "    }\n",
       "\n",
       "    .dataframe tbody tr th {\n",
       "        vertical-align: top;\n",
       "    }\n",
       "\n",
       "    .dataframe thead th {\n",
       "        text-align: right;\n",
       "    }\n",
       "</style>\n",
       "<table border=\"1\" class=\"dataframe\">\n",
       "  <thead>\n",
       "    <tr style=\"text-align: right;\">\n",
       "      <th></th>\n",
       "      <th>timestamp</th>\n",
       "      <th>open</th>\n",
       "      <th>high</th>\n",
       "      <th>low</th>\n",
       "      <th>close</th>\n",
       "      <th>volume</th>\n",
       "      <th>close_time</th>\n",
       "      <th>quote_av</th>\n",
       "      <th>trades</th>\n",
       "      <th>tb_base_av</th>\n",
       "      <th>tb_quote_av</th>\n",
       "      <th>ignore</th>\n",
       "    </tr>\n",
       "  </thead>\n",
       "  <tbody>\n",
       "    <tr>\n",
       "      <th>0</th>\n",
       "      <td>2020-06-12 08:00:00</td>\n",
       "      <td>1.154</td>\n",
       "      <td>1.279</td>\n",
       "      <td>1.122</td>\n",
       "      <td>1.198</td>\n",
       "      <td>54603.770</td>\n",
       "      <td>1591952399999</td>\n",
       "      <td>66907.093700</td>\n",
       "      <td>211</td>\n",
       "      <td>19461.552</td>\n",
       "      <td>23993.239288</td>\n",
       "      <td>0</td>\n",
       "    </tr>\n",
       "    <tr>\n",
       "      <th>1</th>\n",
       "      <td>2020-06-12 09:00:00</td>\n",
       "      <td>1.199</td>\n",
       "      <td>1.211</td>\n",
       "      <td>1.181</td>\n",
       "      <td>1.181</td>\n",
       "      <td>23114.889</td>\n",
       "      <td>1591955999999</td>\n",
       "      <td>27541.001157</td>\n",
       "      <td>112</td>\n",
       "      <td>7337.215</td>\n",
       "      <td>8767.344616</td>\n",
       "      <td>0</td>\n",
       "    </tr>\n",
       "    <tr>\n",
       "      <th>2</th>\n",
       "      <td>2020-06-12 10:00:00</td>\n",
       "      <td>1.191</td>\n",
       "      <td>1.201</td>\n",
       "      <td>1.176</td>\n",
       "      <td>1.180</td>\n",
       "      <td>80262.477</td>\n",
       "      <td>1591959599999</td>\n",
       "      <td>95674.611314</td>\n",
       "      <td>309</td>\n",
       "      <td>33183.439</td>\n",
       "      <td>39535.763201</td>\n",
       "      <td>0</td>\n",
       "    </tr>\n",
       "    <tr>\n",
       "      <th>3</th>\n",
       "      <td>2020-06-12 11:00:00</td>\n",
       "      <td>1.183</td>\n",
       "      <td>1.227</td>\n",
       "      <td>1.171</td>\n",
       "      <td>1.191</td>\n",
       "      <td>43744.381</td>\n",
       "      <td>1591963199999</td>\n",
       "      <td>52424.449289</td>\n",
       "      <td>198</td>\n",
       "      <td>18994.484</td>\n",
       "      <td>22833.471008</td>\n",
       "      <td>0</td>\n",
       "    </tr>\n",
       "    <tr>\n",
       "      <th>4</th>\n",
       "      <td>2020-06-12 12:00:00</td>\n",
       "      <td>1.188</td>\n",
       "      <td>1.212</td>\n",
       "      <td>1.162</td>\n",
       "      <td>1.191</td>\n",
       "      <td>72788.377</td>\n",
       "      <td>1591966799999</td>\n",
       "      <td>86291.159374</td>\n",
       "      <td>311</td>\n",
       "      <td>37645.021</td>\n",
       "      <td>44516.754709</td>\n",
       "      <td>0</td>\n",
       "    </tr>\n",
       "  </tbody>\n",
       "</table>\n",
       "</div>"
      ],
      "text/plain": [
       "             timestamp   open   high    low  close     volume     close_time  \\\n",
       "0  2020-06-12 08:00:00  1.154  1.279  1.122  1.198  54603.770  1591952399999   \n",
       "1  2020-06-12 09:00:00  1.199  1.211  1.181  1.181  23114.889  1591955999999   \n",
       "2  2020-06-12 10:00:00  1.191  1.201  1.176  1.180  80262.477  1591959599999   \n",
       "3  2020-06-12 11:00:00  1.183  1.227  1.171  1.191  43744.381  1591963199999   \n",
       "4  2020-06-12 12:00:00  1.188  1.212  1.162  1.191  72788.377  1591966799999   \n",
       "\n",
       "       quote_av  trades  tb_base_av   tb_quote_av  ignore  \n",
       "0  66907.093700     211   19461.552  23993.239288       0  \n",
       "1  27541.001157     112    7337.215   8767.344616       0  \n",
       "2  95674.611314     309   33183.439  39535.763201       0  \n",
       "3  52424.449289     198   18994.484  22833.471008       0  \n",
       "4  86291.159374     311   37645.021  44516.754709       0  "
      ]
     },
     "execution_count": 2,
     "metadata": {},
     "output_type": "execute_result"
    }
   ],
   "source": [
    "#read the file\n",
    "df = pd.read_csv('Data Extraction/KNCUSDT-1h-binance.csv')"
   ]
  },
  {
   "cell_type": "code",
   "execution_count": 5,
   "id": "c8a9db82",
   "metadata": {},
   "outputs": [
    {
     "data": {
      "text/html": [
       "<div>\n",
       "<style scoped>\n",
       "    .dataframe tbody tr th:only-of-type {\n",
       "        vertical-align: middle;\n",
       "    }\n",
       "\n",
       "    .dataframe tbody tr th {\n",
       "        vertical-align: top;\n",
       "    }\n",
       "\n",
       "    .dataframe thead th {\n",
       "        text-align: right;\n",
       "    }\n",
       "</style>\n",
       "<table border=\"1\" class=\"dataframe\">\n",
       "  <thead>\n",
       "    <tr style=\"text-align: right;\">\n",
       "      <th></th>\n",
       "      <th>timestamp</th>\n",
       "      <th>open</th>\n",
       "      <th>high</th>\n",
       "      <th>low</th>\n",
       "      <th>close</th>\n",
       "      <th>volume</th>\n",
       "      <th>close_time</th>\n",
       "      <th>quote_av</th>\n",
       "      <th>trades</th>\n",
       "      <th>tb_base_av</th>\n",
       "      <th>tb_quote_av</th>\n",
       "      <th>ignore</th>\n",
       "    </tr>\n",
       "  </thead>\n",
       "  <tbody>\n",
       "    <tr>\n",
       "      <th>0</th>\n",
       "      <td>2020-06-12 08:00:00</td>\n",
       "      <td>1.154</td>\n",
       "      <td>1.279</td>\n",
       "      <td>1.122</td>\n",
       "      <td>1.198</td>\n",
       "      <td>54603.770</td>\n",
       "      <td>1591952399999</td>\n",
       "      <td>66907.093700</td>\n",
       "      <td>211</td>\n",
       "      <td>19461.552</td>\n",
       "      <td>23993.239288</td>\n",
       "      <td>0</td>\n",
       "    </tr>\n",
       "    <tr>\n",
       "      <th>1</th>\n",
       "      <td>2020-06-12 09:00:00</td>\n",
       "      <td>1.199</td>\n",
       "      <td>1.211</td>\n",
       "      <td>1.181</td>\n",
       "      <td>1.181</td>\n",
       "      <td>23114.889</td>\n",
       "      <td>1591955999999</td>\n",
       "      <td>27541.001157</td>\n",
       "      <td>112</td>\n",
       "      <td>7337.215</td>\n",
       "      <td>8767.344616</td>\n",
       "      <td>0</td>\n",
       "    </tr>\n",
       "    <tr>\n",
       "      <th>2</th>\n",
       "      <td>2020-06-12 10:00:00</td>\n",
       "      <td>1.191</td>\n",
       "      <td>1.201</td>\n",
       "      <td>1.176</td>\n",
       "      <td>1.180</td>\n",
       "      <td>80262.477</td>\n",
       "      <td>1591959599999</td>\n",
       "      <td>95674.611314</td>\n",
       "      <td>309</td>\n",
       "      <td>33183.439</td>\n",
       "      <td>39535.763201</td>\n",
       "      <td>0</td>\n",
       "    </tr>\n",
       "    <tr>\n",
       "      <th>3</th>\n",
       "      <td>2020-06-12 11:00:00</td>\n",
       "      <td>1.183</td>\n",
       "      <td>1.227</td>\n",
       "      <td>1.171</td>\n",
       "      <td>1.191</td>\n",
       "      <td>43744.381</td>\n",
       "      <td>1591963199999</td>\n",
       "      <td>52424.449289</td>\n",
       "      <td>198</td>\n",
       "      <td>18994.484</td>\n",
       "      <td>22833.471008</td>\n",
       "      <td>0</td>\n",
       "    </tr>\n",
       "    <tr>\n",
       "      <th>4</th>\n",
       "      <td>2020-06-12 12:00:00</td>\n",
       "      <td>1.188</td>\n",
       "      <td>1.212</td>\n",
       "      <td>1.162</td>\n",
       "      <td>1.191</td>\n",
       "      <td>72788.377</td>\n",
       "      <td>1591966799999</td>\n",
       "      <td>86291.159374</td>\n",
       "      <td>311</td>\n",
       "      <td>37645.021</td>\n",
       "      <td>44516.754709</td>\n",
       "      <td>0</td>\n",
       "    </tr>\n",
       "    <tr>\n",
       "      <th>...</th>\n",
       "      <td>...</td>\n",
       "      <td>...</td>\n",
       "      <td>...</td>\n",
       "      <td>...</td>\n",
       "      <td>...</td>\n",
       "      <td>...</td>\n",
       "      <td>...</td>\n",
       "      <td>...</td>\n",
       "      <td>...</td>\n",
       "      <td>...</td>\n",
       "      <td>...</td>\n",
       "      <td>...</td>\n",
       "    </tr>\n",
       "    <tr>\n",
       "      <th>12495</th>\n",
       "      <td>2021-11-15 20:00:00</td>\n",
       "      <td>1.902</td>\n",
       "      <td>1.909</td>\n",
       "      <td>1.894</td>\n",
       "      <td>1.896</td>\n",
       "      <td>73427.800</td>\n",
       "      <td>1637009999999</td>\n",
       "      <td>139687.022500</td>\n",
       "      <td>670</td>\n",
       "      <td>41059.500</td>\n",
       "      <td>78143.599400</td>\n",
       "      <td>0</td>\n",
       "    </tr>\n",
       "    <tr>\n",
       "      <th>12496</th>\n",
       "      <td>2021-11-15 21:00:00</td>\n",
       "      <td>1.896</td>\n",
       "      <td>1.908</td>\n",
       "      <td>1.868</td>\n",
       "      <td>1.903</td>\n",
       "      <td>66248.100</td>\n",
       "      <td>1637013599999</td>\n",
       "      <td>124873.651000</td>\n",
       "      <td>571</td>\n",
       "      <td>26434.300</td>\n",
       "      <td>49891.879400</td>\n",
       "      <td>0</td>\n",
       "    </tr>\n",
       "    <tr>\n",
       "      <th>12497</th>\n",
       "      <td>2021-11-15 22:00:00</td>\n",
       "      <td>1.905</td>\n",
       "      <td>1.917</td>\n",
       "      <td>1.883</td>\n",
       "      <td>1.914</td>\n",
       "      <td>87687.900</td>\n",
       "      <td>1637017199999</td>\n",
       "      <td>166921.540100</td>\n",
       "      <td>669</td>\n",
       "      <td>39376.500</td>\n",
       "      <td>75049.728200</td>\n",
       "      <td>0</td>\n",
       "    </tr>\n",
       "    <tr>\n",
       "      <th>12498</th>\n",
       "      <td>2021-11-15 23:00:00</td>\n",
       "      <td>1.916</td>\n",
       "      <td>1.916</td>\n",
       "      <td>1.891</td>\n",
       "      <td>1.895</td>\n",
       "      <td>55733.300</td>\n",
       "      <td>1637020799999</td>\n",
       "      <td>106197.905300</td>\n",
       "      <td>451</td>\n",
       "      <td>26587.900</td>\n",
       "      <td>50659.537000</td>\n",
       "      <td>0</td>\n",
       "    </tr>\n",
       "    <tr>\n",
       "      <th>12499</th>\n",
       "      <td>2021-11-16 00:00:00</td>\n",
       "      <td>1.896</td>\n",
       "      <td>1.897</td>\n",
       "      <td>1.811</td>\n",
       "      <td>1.820</td>\n",
       "      <td>349379.600</td>\n",
       "      <td>1637024399999</td>\n",
       "      <td>643443.887900</td>\n",
       "      <td>2877</td>\n",
       "      <td>175141.200</td>\n",
       "      <td>322415.808800</td>\n",
       "      <td>0</td>\n",
       "    </tr>\n",
       "  </tbody>\n",
       "</table>\n",
       "<p>12500 rows × 12 columns</p>\n",
       "</div>"
      ],
      "text/plain": [
       "                 timestamp   open   high    low  close      volume  \\\n",
       "0      2020-06-12 08:00:00  1.154  1.279  1.122  1.198   54603.770   \n",
       "1      2020-06-12 09:00:00  1.199  1.211  1.181  1.181   23114.889   \n",
       "2      2020-06-12 10:00:00  1.191  1.201  1.176  1.180   80262.477   \n",
       "3      2020-06-12 11:00:00  1.183  1.227  1.171  1.191   43744.381   \n",
       "4      2020-06-12 12:00:00  1.188  1.212  1.162  1.191   72788.377   \n",
       "...                    ...    ...    ...    ...    ...         ...   \n",
       "12495  2021-11-15 20:00:00  1.902  1.909  1.894  1.896   73427.800   \n",
       "12496  2021-11-15 21:00:00  1.896  1.908  1.868  1.903   66248.100   \n",
       "12497  2021-11-15 22:00:00  1.905  1.917  1.883  1.914   87687.900   \n",
       "12498  2021-11-15 23:00:00  1.916  1.916  1.891  1.895   55733.300   \n",
       "12499  2021-11-16 00:00:00  1.896  1.897  1.811  1.820  349379.600   \n",
       "\n",
       "          close_time       quote_av  trades  tb_base_av    tb_quote_av  ignore  \n",
       "0      1591952399999   66907.093700     211   19461.552   23993.239288       0  \n",
       "1      1591955999999   27541.001157     112    7337.215    8767.344616       0  \n",
       "2      1591959599999   95674.611314     309   33183.439   39535.763201       0  \n",
       "3      1591963199999   52424.449289     198   18994.484   22833.471008       0  \n",
       "4      1591966799999   86291.159374     311   37645.021   44516.754709       0  \n",
       "...              ...            ...     ...         ...            ...     ...  \n",
       "12495  1637009999999  139687.022500     670   41059.500   78143.599400       0  \n",
       "12496  1637013599999  124873.651000     571   26434.300   49891.879400       0  \n",
       "12497  1637017199999  166921.540100     669   39376.500   75049.728200       0  \n",
       "12498  1637020799999  106197.905300     451   26587.900   50659.537000       0  \n",
       "12499  1637024399999  643443.887900    2877  175141.200  322415.808800       0  \n",
       "\n",
       "[12500 rows x 12 columns]"
      ]
     },
     "execution_count": 5,
     "metadata": {},
     "output_type": "execute_result"
    }
   ],
   "source": [
    "df"
   ]
  },
  {
   "cell_type": "code",
   "execution_count": 11,
   "id": "98dec521",
   "metadata": {},
   "outputs": [],
   "source": [
    "df.index = df['Date']"
   ]
  },
  {
   "cell_type": "code",
   "execution_count": 23,
   "id": "fd5aab70",
   "metadata": {},
   "outputs": [],
   "source": [
    "data = df.sort_index(ascending=True, axis=0)\n",
    "new_data = pd.DataFrame(index=range(0,len(df)),columns=['Date', 'close'])\n",
    "\n",
    "#creating dataframe with date and the target variable\n",
    "for i in range(0,len(data)):\n",
    "    new_data['Date'][i] = data['Date'][i]\n",
    "    new_data['close'][i] = data['close'][i]\n",
    "\n",
    "# splitting into train and validation\n",
    "train = new_data[:10000]\n",
    "valid = new_data[10000:]\n"
   ]
  },
  {
   "cell_type": "code",
   "execution_count": 28,
   "id": "774cb391",
   "metadata": {},
   "outputs": [
    {
     "data": {
      "text/plain": [
       "2500"
      ]
     },
     "execution_count": 28,
     "metadata": {},
     "output_type": "execute_result"
    }
   ],
   "source": [
    "len(valid)"
   ]
  },
  {
   "cell_type": "code",
   "execution_count": 33,
   "id": "90cffd49",
   "metadata": {},
   "outputs": [],
   "source": [
    "# In the next step, we will create predictions for the validation set and check the RMSE using the actual values.\n",
    "# making predictions\n",
    "preds = []\n",
    "for i in range(0,valid.shape[0]):\n",
    "    a = train['close'][len(train)-2500+i:].sum() + sum(preds)\n",
    "    b = a/2500\n",
    "    preds.append(b)\n"
   ]
  },
  {
   "cell_type": "code",
   "execution_count": 36,
   "id": "89d405c7",
   "metadata": {},
   "outputs": [
    {
     "name": "stdout",
     "output_type": "stream",
     "text": [
      "\n",
      " RMSE value on validation set:\n",
      "0.2165350948028594\n"
     ]
    }
   ],
   "source": [
    "\n",
    "# checking the results (RMSE value)\n",
    "rms=np.sqrt(np.mean(np.power((np.array(valid['close'])-preds),2)))\n",
    "print('\\n RMSE value on validation set:')\n",
    "print(rms)"
   ]
  },
  {
   "cell_type": "code",
   "execution_count": 41,
   "id": "a096e6d1",
   "metadata": {},
   "outputs": [],
   "source": [
    "#Linear Regression\n",
    "from fastai.tabular.all import *\n",
    "add_datepart(new_data, 'Date')\n",
    "new_data.drop('Elapsed', axis=1, inplace=True)  #elapsed will be the time stamp\n",
    "\n",
    "\n",
    "\n"
   ]
  },
  {
   "cell_type": "code",
   "execution_count": 51,
   "id": "6d273ee7",
   "metadata": {},
   "outputs": [
    {
     "data": {
      "text/plain": [
       "LinearRegression()"
      ]
     },
     "execution_count": 51,
     "metadata": {},
     "output_type": "execute_result"
    }
   ],
   "source": [
    "train = new_data[:10000]\n",
    "valid = new_data[10000:]\n",
    "x_train = train.drop('close', axis=1)\n",
    "y_train = train['close']\n",
    "x_valid = valid.drop('close', axis=1)\n",
    "y_valid = valid['close']\n",
    "\n",
    "#implement linear regression\n",
    "from sklearn.linear_model import LinearRegression\n",
    "model = LinearRegression()\n",
    "model.fit(x_train,y_train)"
   ]
  },
  {
   "cell_type": "code",
   "execution_count": 52,
   "id": "4e2b9ea8",
   "metadata": {},
   "outputs": [
    {
     "data": {
      "text/plain": [
       "0.3884257357020146"
      ]
     },
     "execution_count": 52,
     "metadata": {},
     "output_type": "execute_result"
    }
   ],
   "source": [
    "preds = model.predict(x_valid)\n",
    "rms=np.sqrt(np.mean(np.power((np.array(y_valid)-np.array(preds)),2)))\n",
    "rms"
   ]
  },
  {
   "cell_type": "code",
   "execution_count": 53,
   "id": "641ea422",
   "metadata": {},
   "outputs": [],
   "source": [
    "#importing libraries\n",
    "from sklearn import neighbors\n",
    "from sklearn.model_selection import GridSearchCV\n",
    "from sklearn.preprocessing import MinMaxScaler\n",
    "scaler = MinMaxScaler(feature_range=(0, 1))"
   ]
  },
  {
   "cell_type": "code",
   "execution_count": 54,
   "id": "75c2a116",
   "metadata": {},
   "outputs": [],
   "source": [
    "#scaling data\n",
    "x_train_scaled = scaler.fit_transform(x_train)\n",
    "x_train = pd.DataFrame(x_train_scaled)\n",
    "x_valid_scaled = scaler.fit_transform(x_valid)\n",
    "x_valid = pd.DataFrame(x_valid_scaled)\n",
    "\n",
    "#using gridsearch to find the best parameter\n",
    "params = {'n_neighbors':[2,3,4,5,6,7,8,9]}\n",
    "knn = neighbors.KNeighborsRegressor()\n",
    "model = GridSearchCV(knn, params, cv=5)\n",
    "\n",
    "#fit the model and make predictions\n",
    "model.fit(x_train,y_train)\n",
    "preds = model.predict(x_valid)"
   ]
  },
  {
   "cell_type": "code",
   "execution_count": 55,
   "id": "77809588",
   "metadata": {},
   "outputs": [
    {
     "data": {
      "text/plain": [
       "0.6515432542817091"
      ]
     },
     "execution_count": 55,
     "metadata": {},
     "output_type": "execute_result"
    }
   ],
   "source": [
    "#rmse\n",
    "rms=np.sqrt(np.mean(np.power((np.array(y_valid)-np.array(preds)),2)))\n",
    "rms"
   ]
  },
  {
   "cell_type": "code",
   "execution_count": 67,
   "id": "e8f30cff",
   "metadata": {},
   "outputs": [
    {
     "name": "stdout",
     "output_type": "stream",
     "text": [
      "Performing stepwise search to minimize aic\n",
      " ARIMA(1,1,1)(0,1,1)[12]             : AIC=inf, Time=26.69 sec\n",
      " ARIMA(0,1,0)(0,1,0)[12]             : AIC=-32882.899, Time=0.66 sec\n",
      " ARIMA(1,1,0)(1,1,0)[12]             : AIC=-35405.068, Time=2.14 sec\n",
      " ARIMA(0,1,1)(0,1,1)[12]             : AIC=inf, Time=12.98 sec\n",
      " ARIMA(1,1,0)(0,1,0)[12]             : AIC=-32899.251, Time=0.32 sec\n",
      " ARIMA(1,1,0)(2,1,0)[12]             : AIC=-36610.583, Time=11.35 sec\n",
      " ARIMA(1,1,0)(2,1,1)[12]             : AIC=inf, Time=52.69 sec\n",
      " ARIMA(1,1,0)(1,1,1)[12]             : AIC=inf, Time=20.19 sec\n",
      " ARIMA(0,1,0)(2,1,0)[12]             : AIC=-36586.639, Time=9.18 sec\n",
      " ARIMA(2,1,0)(2,1,0)[12]             : AIC=-36631.570, Time=7.79 sec\n",
      " ARIMA(2,1,0)(1,1,0)[12]             : AIC=-35429.438, Time=3.05 sec\n",
      " ARIMA(2,1,0)(2,1,1)[12]             : AIC=inf, Time=80.51 sec\n",
      " ARIMA(2,1,0)(1,1,1)[12]             : AIC=inf, Time=33.94 sec\n",
      " ARIMA(3,1,0)(2,1,0)[12]             : AIC=-36629.582, Time=10.65 sec\n",
      " ARIMA(2,1,1)(2,1,0)[12]             : AIC=-36629.589, Time=23.97 sec\n",
      " ARIMA(1,1,1)(2,1,0)[12]             : AIC=-36627.099, Time=17.07 sec\n",
      " ARIMA(3,1,1)(2,1,0)[12]             : AIC=-36627.578, Time=14.26 sec\n",
      " ARIMA(2,1,0)(2,1,0)[12] intercept   : AIC=-36629.570, Time=44.06 sec\n",
      "\n",
      "Best model:  ARIMA(2,1,0)(2,1,0)[12]          \n",
      "Total fit time: 371.945 seconds\n"
     ]
    }
   ],
   "source": [
    "from pmdarima.arima import auto_arima\n",
    "\n",
    "data = df.sort_index(ascending=True, axis=0)\n",
    "\n",
    "train = data[:10000]\n",
    "valid = data[10000:]\n",
    "\n",
    "training = train['close']\n",
    "validation = valid['close']\n",
    "\n",
    "model = auto_arima(training, start_p=1, start_q=1,max_p=3, max_q=3, m=12,start_P=0, seasonal=True,d=1, D=1, trace=True,error_action='ignore',suppress_warnings=True)\n",
    "model.fit(training)\n",
    "\n",
    "forecast = model.predict(n_periods=2500)\n",
    "forecast = pd.DataFrame(forecast,index = valid.index,columns=['Prediction'])"
   ]
  },
  {
   "cell_type": "code",
   "execution_count": 64,
   "id": "6c8d5b81",
   "metadata": {},
   "outputs": [
    {
     "data": {
      "text/plain": [
       "3.187713980643287"
      ]
     },
     "execution_count": 64,
     "metadata": {},
     "output_type": "execute_result"
    }
   ],
   "source": [
    "rms=np.sqrt(np.mean(np.power((np.array(valid['close'])-np.array(forecast['Prediction'])),2)))\n",
    "rms"
   ]
  },
  {
   "cell_type": "markdown",
   "id": "7eba86f5",
   "metadata": {},
   "source": [
    "from fbprophet import Prophet\n",
    "\n",
    "#creating dataframe\n",
    "new_data = pd.DataFrame(index=range(0,len(df)),columns=['Date', 'close'])\n",
    "\n",
    "for i in range(0,len(data)):\n",
    "    new_data['Date'][i] = data['Date'][i]\n",
    "    new_data['close'][i] = data['close'][i]\n",
    "\n",
    "new_data['Date'] = pd.to_datetime(new_data.Date,format='%Y-%m-%d')\n",
    "new_data.index = new_data['Date']\n",
    "\n",
    "#preparing data\n",
    "new_data.rename(columns={'close': 'y', 'Date': 'ds'}, inplace=True)\n",
    "\n",
    "#train and validation\n",
    "train = new_data[:10000]\n",
    "valid = new_data[10000:]\n",
    "\n",
    "#fit the model\n",
    "model = Prophet()\n",
    "model.fit(train)\n",
    "\n",
    "#predictions\n",
    "close_prices = model.make_future_dataframe(periods=len(valid))\n",
    "forecast = model.predict(close_prices)"
   ]
  },
  {
   "cell_type": "code",
   "execution_count": 81,
   "id": "314985f1",
   "metadata": {},
   "outputs": [
    {
     "name": "stdout",
     "output_type": "stream",
     "text": [
      "9940/9940 - 117s - loss: 5.4258e-04 - 117s/epoch - 12ms/step\n"
     ]
    }
   ],
   "source": [
    "#importing required libraries\n",
    "from sklearn.preprocessing import MinMaxScaler\n",
    "from keras.models import Sequential\n",
    "from keras.layers import Dense, Dropout, LSTM\n",
    "\n",
    "#creating dataframe\n",
    "data = df.sort_index(ascending=True, axis=0)\n",
    "new_data = pd.DataFrame(index=range(0,len(df)),columns=['Date', 'close'])\n",
    "for i in range(0,len(data)):\n",
    "    new_data['Date'][i] = data['Date'][i]\n",
    "    new_data['close'][i] = data['close'][i]\n",
    "\n",
    "#setting index\n",
    "new_data.index = new_data.Date\n",
    "new_data.drop('Date', axis=1, inplace=True)\n",
    "\n",
    "#creating train and test sets\n",
    "dataset = new_data.values\n",
    "\n",
    "train = dataset[0:10000,:]\n",
    "valid = dataset[10000:,:]\n",
    "\n",
    "#converting dataset into x_train and y_train\n",
    "scaler = MinMaxScaler(feature_range=(0, 1))\n",
    "scaled_data = scaler.fit_transform(dataset)\n",
    "\n",
    "x_train, y_train = [], []\n",
    "for i in range(60,len(train)):\n",
    "    x_train.append(scaled_data[i-60:i,0])\n",
    "    y_train.append(scaled_data[i,0])\n",
    "x_train, y_train = np.array(x_train), np.array(y_train)\n",
    "\n",
    "x_train = np.reshape(x_train, (x_train.shape[0],x_train.shape[1],1))\n",
    "\n",
    "# create and fit the LSTM network\n",
    "model = Sequential()\n",
    "model.add(LSTM(units=50, return_sequences=True, input_shape=(x_train.shape[1],1)))\n",
    "model.add(LSTM(units=50))\n",
    "model.add(Dense(1))\n",
    "\n",
    "model.compile(loss='mean_squared_error', optimizer='adam')\n",
    "model.fit(x_train, y_train, epochs=1, batch_size=1, verbose=2)\n",
    "\n",
    "#predicting 246 values, using past 60 from the train data\n",
    "inputs = new_data[len(new_data) - len(valid) - 60:].values\n",
    "inputs = inputs.reshape(-1,1)\n",
    "inputs  = scaler.transform(inputs)\n",
    "\n",
    "X_test = []\n",
    "for i in range(60,inputs.shape[0]):\n",
    "    X_test.append(inputs[i-60:i,0])\n",
    "X_test = np.array(X_test)\n",
    "\n",
    "X_test = np.reshape(X_test, (X_test.shape[0],X_test.shape[1],1))\n",
    "closing_price = model.predict(X_test)\n",
    "closing_price = scaler.inverse_transform(closing_price)"
   ]
  },
  {
   "cell_type": "code",
   "execution_count": 82,
   "id": "ee035e16",
   "metadata": {},
   "outputs": [
    {
     "data": {
      "text/plain": [
       "0.03425069425331775"
      ]
     },
     "execution_count": 82,
     "metadata": {},
     "output_type": "execute_result"
    }
   ],
   "source": [
    "rms=np.sqrt(np.mean(np.power((valid-closing_price),2)))\n",
    "rms"
   ]
  },
  {
   "cell_type": "code",
   "execution_count": 100,
   "id": "c342b5cf",
   "metadata": {},
   "outputs": [
    {
     "data": {
      "text/plain": [
       "<matplotlib.legend.Legend at 0x299b08d2fc8>"
      ]
     },
     "execution_count": 100,
     "metadata": {},
     "output_type": "execute_result"
    },
    {
     "data": {
      "image/png": "[encoded data removed]",
      "text/plain": [
       "<Figure size 1440x720 with 1 Axes>"
      ]
     },
     "metadata": {
      "needs_background": "light"
     },
     "output_type": "display_data"
    }
   ],
   "source": [
    "plt.plot(closing_price,label='Prediction')\n",
    "plt.plot(valid,label='GroundTruth')\n",
    "plt.legend(fontsize = 22)\n",
    "plt.xlabel('')"
   ]
  },
  {
   "cell_type": "code",
   "execution_count": 95,
   "id": "b74ca01c",
   "metadata": {},
   "outputs": [
    {
     "data": {
      "text/plain": [
       "10000"
      ]
     },
     "execution_count": 95,
     "metadata": {},
     "output_type": "execute_result"
    }
   ],
   "source": [
    "len(train)"
   ]
  },
  {
   "cell_type": "code",
   "execution_count": null,
   "id": "3ee066e2",
   "metadata": {},
   "outputs": [],
   "source": []
  },
  {
   "cell_type": "code",
   "execution_count": null,
   "id": "b4b959ed",
   "metadata": {},
   "outputs": [],
   "source": []
  }
 ],
 "metadata": {
  "kernelspec": {
   "display_name": "Python 3",
   "language": "python",
   "name": "python3"
  },
  "language_info": {
   "codemirror_mode": {
    "name": "ipython",
    "version": 3
   },
   "file_extension": ".py",
   "mimetype": "text/x-python",
   "name": "python",
   "nbconvert_exporter": "python",
   "pygments_lexer": "ipython3",
   "version": "3.7.10"
  }
 },
 "nbformat": 4,
 "nbformat_minor": 5
}
